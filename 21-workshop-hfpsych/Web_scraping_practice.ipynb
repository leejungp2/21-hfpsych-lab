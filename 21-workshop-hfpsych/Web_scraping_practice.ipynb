{
  "cells": [
    {
      "cell_type": "code",
      "execution_count": null,
      "metadata": {
        "id": "d_Wi9695Ig0K"
      },
      "outputs": [],
      "source": [
        "import requests\n",
        "from bs4 import BeautifulSoup"
      ]
    },
    {
      "cell_type": "code",
      "execution_count": null,
      "metadata": {
        "id": "VMPoUQI1JBB5"
      },
      "outputs": [],
      "source": [
        "res = requests.get('http://www.reddit.com')"
      ]
    },
    {
      "cell_type": "code",
      "execution_count": null,
      "metadata": {
        "colab": {
          "base_uri": "https://localhost:8080/",
          "height": 164
        },
        "id": "7K8qjMJ0Mgk-",
        "outputId": "d494cba9-0f46-4362-b8c9-77260baedd88"
      },
      "outputs": [],
      "source": [
        "soup = BeautifulSoup(res.contet, 'html.parser')"
      ]
    },
    {
      "cell_type": "code",
      "execution_count": null,
      "metadata": {
        "colab": {
          "base_uri": "https://localhost:8080/"
        },
        "id": "7fFhcsRi9Zk4",
        "outputId": "8696ab8e-da48-49a2-8234-b27a8184de47"
      },
      "outputs": [],
      "source": [
        "pip install praw"
      ]
    },
    {
      "cell_type": "code",
      "execution_count": null,
      "metadata": {
        "id": "KL40PHq_9qIy"
      },
      "outputs": [],
      "source": [
        "import praw\n",
        "import pandas as pd\n",
        "import datetime as dt"
      ]
    },
    {
      "cell_type": "code",
      "execution_count": null,
      "metadata": {
        "id": "5stwbCn59zd5"
      },
      "outputs": [],
      "source": [
        "reddit = praw.Reddit(client_id='jjungleee',\n",
        "                     client_secret='JaOBZk_ci7syzZmEqOKeKwO-TpsAiQ',\n",
        "                     user_agent='web_practice',\n",
        "                     username='jjungleee',\n",
        "                     password='dlwjd2085617')"
      ]
    },
    {
      "cell_type": "markdown",
      "metadata": {
        "id": "hI08_faRByWi"
      },
      "source": [
        "Title Body 가져오기"
      ]
    },
    {
      "cell_type": "code",
      "execution_count": null,
      "metadata": {
        "colab": {
          "base_uri": "https://localhost:8080/",
          "height": 463
        },
        "id": "YuuQ27KgIg0j",
        "outputId": "61f15d74-2827-448f-ad4b-672da4863ab6"
      },
      "outputs": [],
      "source": [
        "subreddit = reddit.subreddit('music')\n",
        "top_subreddit = subreddit.top(limit=500)\n",
        "top_dict = { \"title\":[], \\\n",
        "             \"body\":[]}\n",
        "for submission in top_subreddit:\n",
        "    top_dict[\"title\"].append(submission.title)\n",
        "    top_dict[\"body\"].append(submission.selftext)"
      ]
    },
    {
      "cell_type": "code",
      "execution_count": null,
      "metadata": {
        "colab": {
          "base_uri": "https://localhost:8080/",
          "height": 49
        },
        "id": "L-gfiU-SCTTQ",
        "outputId": "de75c906-940b-41be-9b16-f122325e9059"
      },
      "outputs": [],
      "source": [
        "reddit_top_data = pd.DataFrame(top_dict)\n",
        "reddit_top_data"
      ]
    }
  ],
  "metadata": {
    "colab": {
      "provenance": []
    },
    "kernelspec": {
      "display_name": "Python 3",
      "name": "python3"
    },
    "language_info": {
      "name": "python"
    }
  },
  "nbformat": 4,
  "nbformat_minor": 0
}
